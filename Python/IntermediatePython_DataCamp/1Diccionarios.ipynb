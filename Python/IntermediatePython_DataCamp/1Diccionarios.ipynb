{
 "cells": [
  {
   "cell_type": "markdown",
   "id": "d1ca0a6b-7c57-49c4-902f-f25596ebb856",
   "metadata": {},
   "source": [
    "# Diccionarios 🐍"
   ]
  },
  {
   "cell_type": "markdown",
   "id": "69519e2b-76f8-4d39-aab8-38263ad49ee0",
   "metadata": {},
   "source": [
    "Esta es una continuación de mi track de aprendizaje de data camp: Python For Data Analysis"
   ]
  },
  {
   "cell_type": "markdown",
   "id": "a0738302-3e9c-4830-ab3d-8d794b76b128",
   "metadata": {},
   "source": [
    "## Diccionarios:"
   ]
  },
  {
   "cell_type": "markdown",
   "id": "c537c9df-d587-486b-b5e0-5d24efeac50e",
   "metadata": {},
   "source": [
    "Propiedades: <br>\n",
    "- Las keys tienen que ser objetos inmutables (que el contenido no pueda ser cambiado después de que se crean), como strings, booleans y floats."
   ]
  },
  {
   "cell_type": "markdown",
   "id": "f3fc6a33-e00d-4640-a0bb-5e7777de9d89",
   "metadata": {},
   "source": [
    "Podemos verla como una lista donde sustituimos el index por una key"
   ]
  },
  {
   "cell_type": "code",
   "execution_count": 3,
   "id": "183d0d3f-a6b2-4a1e-8929-392c664eebd5",
   "metadata": {
    "scrolled": true
   },
   "outputs": [
    {
     "data": {
      "text/plain": [
       "2.77"
      ]
     },
     "execution_count": 3,
     "metadata": {},
     "output_type": "execute_result"
    }
   ],
   "source": [
    "# Llamamos al value del diccionario por medio de su key.\n",
    "world = {'Afghanistan':30.55,'albania':2.77,'algeria':39.21}\n",
    "world['albania']"
   ]
  },
  {
   "cell_type": "code",
   "execution_count": 4,
   "id": "7ff9d044-a6c8-41f0-8121-1d04224cccf7",
   "metadata": {},
   "outputs": [
    {
     "data": {
      "text/plain": [
       "2.77"
      ]
     },
     "execution_count": 4,
     "metadata": {},
     "output_type": "execute_result"
    }
   ],
   "source": [
    "# Para llegar al mismo ejemplo con listas, tendríamos que hacer.\n",
    "pop = [30.55,2.77,39.21]\n",
    "countries = ['afghanistan','albania','algeria']\n",
    "ind_alb = countries.index('albania')\n",
    "pop[ind_alb]"
   ]
  },
  {
   "cell_type": "markdown",
   "id": "ff0f3119-fe1f-4bcc-9968-f84aed8a663e",
   "metadata": {},
   "source": [
    "### Methods"
   ]
  },
  {
   "cell_type": "markdown",
   "id": "9327bd41-4e09-4a0e-aa44-e2f7f35afdb4",
   "metadata": {},
   "source": [
    "#### .keys()\n",
    "Crea un elemento 'dict_keys' con las keys del diccionario, similar a una lista"
   ]
  },
  {
   "cell_type": "code",
   "execution_count": 11,
   "id": "f68da661-9283-4b5c-a383-996724f94f44",
   "metadata": {},
   "outputs": [
    {
     "name": "stdout",
     "output_type": "stream",
     "text": [
      "dict_keys(['Afghanistan', 'albania', 'algeria'])\n"
     ]
    }
   ],
   "source": [
    "# .keys() te crea una lista con las keys del diccionario\n",
    "keys_ex = world.keys()\n",
    "print(keys_ex)"
   ]
  },
  {
   "cell_type": "markdown",
   "id": "9442a78c-35cf-47bf-ac9a-a26794896b0c",
   "metadata": {},
   "source": [
    "El elemento dict_keys puede ser transformado a lista"
   ]
  },
  {
   "cell_type": "code",
   "execution_count": 12,
   "id": "03ac9420-ea8d-4fec-ba3a-bad930f741d2",
   "metadata": {},
   "outputs": [
    {
     "data": {
      "text/plain": [
       "['Afghanistan', 'albania', 'algeria']"
      ]
     },
     "execution_count": 12,
     "metadata": {},
     "output_type": "execute_result"
    }
   ],
   "source": [
    "list(keys_ex)"
   ]
  },
  {
   "cell_type": "markdown",
   "id": "475ee095-dd84-4b1f-acef-ac11530f186c",
   "metadata": {},
   "source": [
    "## Añadir elementos a un diccionario"
   ]
  },
  {
   "cell_type": "markdown",
   "id": "be9a491f-4746-45e5-970e-6e374f7b6651",
   "metadata": {},
   "source": [
    "Para agregar un elemento nuevo a un diccionario, basta con definir el valor usando una key como se muestra abajo:"
   ]
  },
  {
   "cell_type": "code",
   "execution_count": 16,
   "id": "6cd1b522-e8d8-4db5-8bcf-640a6ed846ab",
   "metadata": {},
   "outputs": [
    {
     "name": "stdout",
     "output_type": "stream",
     "text": [
      "{'Afghanistan': 30.55, 'albania': 2.77, 'algeria': 39.21, 'sealand': 2.7e-05}\n",
      "True\n"
     ]
    }
   ],
   "source": [
    "# Agregamos un nuevo key-valor al diccionario\n",
    "world['sealand'] = 0.000027\n",
    "print(world)\n",
    "# Para confirmar que se encuentra el valor dentro del diccionario\n",
    "print('sealand' in world)"
   ]
  },
  {
   "cell_type": "markdown",
   "id": "b51dd69e-ef21-4df6-899b-fa05000c2a05",
   "metadata": {},
   "source": [
    "De la misma forma se pueden actualizar los valores de las keys que ya existen:"
   ]
  },
  {
   "cell_type": "code",
   "execution_count": 19,
   "id": "791401d7-b4dd-4937-85ab-349d91fd8741",
   "metadata": {},
   "outputs": [
    {
     "data": {
      "text/plain": [
       "{'Afghanistan': 30.55, 'albania': 2.77, 'algeria': 39.21, 'sealand': 2.8e-05}"
      ]
     },
     "execution_count": 19,
     "metadata": {},
     "output_type": "execute_result"
    }
   ],
   "source": [
    "world['sealand'] = 0.000028\n",
    "world"
   ]
  },
  {
   "cell_type": "markdown",
   "id": "957ba071-e7dc-4fd4-96d4-3ea2599eb0f3",
   "metadata": {},
   "source": [
    "## Borrar elementos de un diccionario"
   ]
  },
  {
   "cell_type": "code",
   "execution_count": 20,
   "id": "7ec5e319-2969-4287-a7ca-71fb34cdb1fc",
   "metadata": {
    "scrolled": true
   },
   "outputs": [
    {
     "data": {
      "text/plain": [
       "{'Afghanistan': 30.55, 'albania': 2.77, 'algeria': 39.21}"
      ]
     },
     "execution_count": 20,
     "metadata": {},
     "output_type": "execute_result"
    }
   ],
   "source": [
    "# Se pueden borrar elementos de diccionarios utilizando la funcion del()\n",
    "del(world['sealand'])\n",
    "world"
   ]
  },
  {
   "cell_type": "markdown",
   "id": "926bca07-f0b1-40ba-85e8-b937a35b3ce5",
   "metadata": {},
   "source": [
    "## Diccionario de Diccionarios\n",
    "Así como las listas pueden contener listas, los diccionarios pueden contener diccionarios en sus values.\n",
    "<!-- Para llamarlos, al igual que las listas hay que utilizar los indexes. -->"
   ]
  },
  {
   "cell_type": "code",
   "execution_count": 21,
   "id": "c1be931b-cfdf-4544-b475-82ec6f58caf7",
   "metadata": {},
   "outputs": [
    {
     "name": "stdout",
     "output_type": "stream",
     "text": [
      "paris\n"
     ]
    }
   ],
   "source": [
    "# Diccionario de diccionarios\n",
    "europe = { 'spain': { 'capital':'madrid', 'population':46.77 },\n",
    "           'france': { 'capital':'paris', 'population':66.03 },\n",
    "           'germany': { 'capital':'berlin', 'population':80.62 },\n",
    "           'norway': { 'capital':'oslo', 'population':5.084 } }\n",
    "\n",
    "\n",
    "# Usamos el numero de indexes equivalentes al numero de diccionarios nesteados\n",
    "print(europe['france']['capital'])"
   ]
  },
  {
   "attachments": {
    "02c67dc1-f8a6-45e8-ad50-3dc575a9195f.png": {
     "image/png": "[encoded data removed]"
    }
   },
   "cell_type": "markdown",
   "id": "d04a7e85-54cd-497e-8229-98adf2a2838f",
   "metadata": {},
   "source": [
    "![image.png](attachment:02c67dc1-f8a6-45e8-ad50-3dc575a9195f.png)"
   ]
  }
 ],
 "metadata": {
  "kernelspec": {
   "display_name": "Python 3 (ipykernel)",
   "language": "python",
   "name": "python3"
  },
  "language_info": {
   "codemirror_mode": {
    "name": "ipython",
    "version": 3
   },
   "file_extension": ".py",
   "mimetype": "text/x-python",
   "name": "python",
   "nbconvert_exporter": "python",
   "pygments_lexer": "ipython3",
   "version": "3.11.5"
  }
 },
 "nbformat": 4,
 "nbformat_minor": 5
}
