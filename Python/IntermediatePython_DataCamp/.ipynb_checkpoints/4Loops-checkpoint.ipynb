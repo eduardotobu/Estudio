{
 "cells": [
  {
   "cell_type": "markdown",
   "id": "6ba0706b-c288-4d5c-a166-17d2f25af19f",
   "metadata": {},
   "source": [
    "# Loops 🔁"
   ]
  },
  {
   "cell_type": "markdown",
   "id": "ad5d31f8-3bd8-4c35-a117-48903e178f8f",
   "metadata": {},
   "source": [
    "## while loop\n",
    "Un ciclo que ejecutará un pedazo de código una y otra vez, siempre y cuando se siga cumpliendo la condición."
   ]
  },
  {
   "cell_type": "code",
   "execution_count": 4,
   "id": "cd10028f-959c-454a-8d50-9056cebe7c4c",
   "metadata": {
    "tags": []
   },
   "outputs": [
    {
     "name": "stdout",
     "output_type": "stream",
     "text": [
      "Voy a entrar al loop\n",
      "12.5\n",
      "3.125\n",
      "0.78125\n",
      "Ups, me salí del loop\n"
     ]
    }
   ],
   "source": [
    "error = 50.0\n",
    "\n",
    "print('Voy a entrar al loop')\n",
    "\n",
    "# While Loop\n",
    "while error > 1:\n",
    "    error = error/4 #\n",
    "    print(error)\n",
    "    \n",
    "print('Ups, me salí del loop')"
   ]
  },
  {
   "cell_type": "markdown",
   "id": "45122f50-2c00-4160-8560-8c1590008b1c",
   "metadata": {},
   "source": [
    "### if-else dentro de while loop"
   ]
  },
  {
   "cell_type": "code",
   "execution_count": 6,
   "id": "121fe481-83a8-4e28-a68c-25209ed7dc73",
   "metadata": {
    "tags": []
   },
   "outputs": [
    {
     "name": "stdout",
     "output_type": "stream",
     "text": [
      "correcting...\n",
      "-5\n",
      "correcting...\n",
      "-4\n",
      "correcting...\n",
      "-3\n",
      "correcting...\n",
      "-2\n",
      "correcting...\n",
      "-1\n",
      "correcting...\n",
      "0\n"
     ]
    }
   ],
   "source": [
    "# Inicializa offset\n",
    "offset = -6\n",
    "\n",
    "# While loop\n",
    "while offset != 0 :\n",
    "    print(\"correcting...\")\n",
    "    if offset > 0: # Si el offset es mayor que 0, restame uno cada que salga el loop\n",
    "      offset -= 1\n",
    "    else : # Si no, sumame uno cada que de la vuelta el loop\n",
    "      offset += 1  \n",
    "    print(offset)"
   ]
  },
  {
   "cell_type": "markdown",
   "id": "e4d79ec5-ea3e-468b-b5d3-df4ba51ca8a5",
   "metadata": {},
   "source": [
    "## for loop\n",
    "Executa una pieza de código por cada elemento de un objeto iterable(string, list, tuple, set, array, etc.)"
   ]
  },
  {
   "cell_type": "code",
   "execution_count": 7,
   "id": "183bc69c-a40e-4990-bdca-efcc780b6dd4",
   "metadata": {
    "tags": []
   },
   "outputs": [
    {
     "name": "stdout",
     "output_type": "stream",
     "text": [
      "1.73\n",
      "1.68\n",
      "1.71\n",
      "1.89\n"
     ]
    }
   ],
   "source": [
    "fam = [1.73, 1.68, 1.71, 1.89]\n",
    "for height in fam:\n",
    "    print(height)"
   ]
  },
  {
   "cell_type": "markdown",
   "id": "7dc07b6a-3707-46cb-aa1d-74ec00b55d6f",
   "metadata": {},
   "source": [
    "En esta solución no tenemos acceso al index del elemento sobre el que se está iterando <br>\n",
    "Si queremos obtener el index, podemos utilizar la función enumerate()"
   ]
  },
  {
   "cell_type": "code",
   "execution_count": 14,
   "id": "361201fe-3ce6-4576-84d8-b867148f908f",
   "metadata": {
    "tags": []
   },
   "outputs": [
    {
     "name": "stdout",
     "output_type": "stream",
     "text": [
      "index 0: 1.73\n",
      "index 1: 1.68\n",
      "index 2: 1.71\n",
      "index 3: 1.89\n"
     ]
    }
   ],
   "source": [
    "for index, height in enumerate(fam): #Utilizamos enumerate() en el iterable para obtener index\n",
    "    print(\"index \" + str(index) + \": \" + str(height))"
   ]
  },
  {
   "cell_type": "markdown",
   "id": "ae46c856-7e09-47dc-a6f0-d16297307ee8",
   "metadata": {},
   "source": [
    "### for loop en strings\n",
    "for loop puede ser ejecutado en cualquier objeto iterable, incluyendo strings"
   ]
  },
  {
   "cell_type": "code",
   "execution_count": 18,
   "id": "3429e067-1f50-4852-bd82-5cb0c13238ee",
   "metadata": {
    "tags": []
   },
   "outputs": [
    {
     "name": "stdout",
     "output_type": "stream",
     "text": [
      "F\n",
      "A\n",
      "M\n",
      "I\n",
      "L\n",
      "Y\n"
     ]
    }
   ],
   "source": [
    "for c in \"family\":\n",
    "    print(c.capitalize())"
   ]
  },
  {
   "cell_type": "markdown",
   "id": "61e837c2-7f47-4d27-b9c0-b560a978d1e5",
   "metadata": {},
   "source": [
    "## Loops en data structures\n",
    "Aquí veremos como hacer loops en diferentes data structures, como diccionarios, dataframes de pandas y numpy arrays\n"
   ]
  },
  {
   "cell_type": "markdown",
   "id": "684eeba9-4334-4578-bcc3-8223ee8e26a2",
   "metadata": {},
   "source": [
    "### Loops en diccionarios"
   ]
  },
  {
   "cell_type": "code",
   "execution_count": 36,
   "id": "36f84197-2c43-4506-8840-8db0291c1a10",
   "metadata": {
    "tags": []
   },
   "outputs": [
    {
     "name": "stdout",
     "output_type": "stream",
     "text": [
      "afghanistan -- 30.55\n",
      "albania -- 2.77\n",
      "algeria -- 39.21\n"
     ]
    },
    {
     "data": {
      "text/plain": [
       "{'afghanistan': 30.55, 'albania': 2.77, 'algeria': 39.21}"
      ]
     },
     "execution_count": 36,
     "metadata": {},
     "output_type": "execute_result"
    }
   ],
   "source": [
    "world = {\"afghanistan\":30.55,\n",
    "        \"albania\":2.77,\n",
    "        \"algeria\":39.21}\n",
    "for key, value in world.items(): # Utilizamos el metodo items() para poder iterar por key y value del diccionario.\n",
    "    print(key + ' -- ' + str(value))\n",
    "world"
   ]
  },
  {
   "cell_type": "markdown",
   "id": "871fe3e0-752e-465e-940d-0c3e63906ee2",
   "metadata": {},
   "source": [
    "### Loops en numpy arrays"
   ]
  },
  {
   "cell_type": "markdown",
   "id": "c06b4838-cbf6-460e-a3a2-d42d77ac801a",
   "metadata": {},
   "source": [
    "#### 1D NumPy Arrays"
   ]
  },
  {
   "cell_type": "markdown",
   "id": "8fc6ee89-00cd-4acb-9e03-fa332b68ac7d",
   "metadata": {},
   "source": [
    "No hay mayor problema, los loops jalan"
   ]
  },
  {
   "cell_type": "code",
   "execution_count": 38,
   "id": "951f38d5-5092-41b0-9f4f-157a1b9ae61b",
   "metadata": {
    "tags": []
   },
   "outputs": [
    {
     "name": "stdout",
     "output_type": "stream",
     "text": [
      "21.85171572722109\n",
      "20.97505668934241\n",
      "21.750282138093777\n",
      "24.74734749867025\n",
      "21.44127836209856\n"
     ]
    }
   ],
   "source": [
    "import numpy as np\n",
    "\n",
    "np_height = np.array([1.73, 1.68, 1.71, 1.89, 1.79])\n",
    "np_weight = np.array([65.4, 59.2, 63.6, 88.4, 68.7])\n",
    "\n",
    "bmi = np_weight / np_height ** 2\n",
    "\n",
    "for val in bmi:\n",
    "    print(val)"
   ]
  },
  {
   "cell_type": "markdown",
   "id": "9c360282-6cfd-471c-821f-8e24fd146e0a",
   "metadata": {},
   "source": [
    "#### 2D NumPy Arrays"
   ]
  },
  {
   "cell_type": "markdown",
   "id": "99726a64-9b58-4494-933f-e7cbb7e79c40",
   "metadata": {},
   "source": [
    "Jala como una lista de listas, te imprime los 1D arrays que conforman el 2D array."
   ]
  },
  {
   "cell_type": "code",
   "execution_count": 40,
   "id": "eb8f5b47-8e0c-448b-a075-7f36907d5d25",
   "metadata": {
    "tags": []
   },
   "outputs": [
    {
     "name": "stdout",
     "output_type": "stream",
     "text": [
      "[1.73 1.68 1.71 1.89 1.79]\n",
      "[65.4 59.2 63.6 88.4 68.7]\n"
     ]
    }
   ],
   "source": [
    "# Definimos los arrays 1D\n",
    "np_height = np.array([1.73, 1.68, 1.71, 1.89, 1.79])\n",
    "np_weight = np.array([65.4, 59.2, 63.6, 88.4, 68.7])\n",
    "\n",
    "# Creamos el array 2D\n",
    "meas = np.array([np_height,np_weight])\n",
    "\n",
    "# for loop\n",
    "for val in meas:\n",
    "    print(val)"
   ]
  },
  {
   "cell_type": "markdown",
   "id": "6008bf17-b5f7-4b81-af1a-31771226d122",
   "metadata": {},
   "source": [
    "Si queremos iterar sobre cada elemento del array, podemos utilizar la funcion np.nditer()"
   ]
  },
  {
   "cell_type": "code",
   "execution_count": 41,
   "id": "50b0215d-fdca-4446-abd3-9713ac54f77e",
   "metadata": {
    "tags": []
   },
   "outputs": [
    {
     "name": "stdout",
     "output_type": "stream",
     "text": [
      "1.73\n",
      "1.68\n",
      "1.71\n",
      "1.89\n",
      "1.79\n",
      "65.4\n",
      "59.2\n",
      "63.6\n",
      "88.4\n",
      "68.7\n"
     ]
    }
   ],
   "source": [
    "# for loop\n",
    "for val in np.nditer(meas): # Utilizamos la funcion np.nditer() para iterar sobre cada elemento del array 2D\n",
    "    print(val)"
   ]
  },
  {
   "cell_type": "markdown",
   "id": "05a6918b-ae14-40b5-9b2c-347ef7bb5df1",
   "metadata": {},
   "source": [
    "### Loop en pandas dataframe"
   ]
  },
  {
   "cell_type": "code",
   "execution_count": 47,
   "id": "d73df7b4-a1ab-45f3-aa66-f3ded2f425b7",
   "metadata": {
    "jupyter": {
     "source_hidden": true
    },
    "tags": []
   },
   "outputs": [
    {
     "data": {
      "text/html": [
       "<div>\n",
       "<style scoped>\n",
       "    .dataframe tbody tr th:only-of-type {\n",
       "        vertical-align: middle;\n",
       "    }\n",
       "\n",
       "    .dataframe tbody tr th {\n",
       "        vertical-align: top;\n",
       "    }\n",
       "\n",
       "    .dataframe thead th {\n",
       "        text-align: right;\n",
       "    }\n",
       "</style>\n",
       "<table border=\"1\" class=\"dataframe\">\n",
       "  <thead>\n",
       "    <tr style=\"text-align: right;\">\n",
       "      <th></th>\n",
       "      <th>country</th>\n",
       "      <th>capital</th>\n",
       "      <th>area</th>\n",
       "      <th>population</th>\n",
       "    </tr>\n",
       "  </thead>\n",
       "  <tbody>\n",
       "    <tr>\n",
       "      <th>BR</th>\n",
       "      <td>Brazil</td>\n",
       "      <td>Brasilia</td>\n",
       "      <td>8.516</td>\n",
       "      <td>200.40</td>\n",
       "    </tr>\n",
       "    <tr>\n",
       "      <th>RU</th>\n",
       "      <td>Russia</td>\n",
       "      <td>Moscow</td>\n",
       "      <td>17.100</td>\n",
       "      <td>143.50</td>\n",
       "    </tr>\n",
       "    <tr>\n",
       "      <th>IN</th>\n",
       "      <td>India</td>\n",
       "      <td>New Delhi</td>\n",
       "      <td>3.286</td>\n",
       "      <td>1252.00</td>\n",
       "    </tr>\n",
       "    <tr>\n",
       "      <th>CH</th>\n",
       "      <td>China</td>\n",
       "      <td>Beijing</td>\n",
       "      <td>9.597</td>\n",
       "      <td>1357.00</td>\n",
       "    </tr>\n",
       "    <tr>\n",
       "      <th>SA</th>\n",
       "      <td>South Africa</td>\n",
       "      <td>Pretoria</td>\n",
       "      <td>1.221</td>\n",
       "      <td>52.98</td>\n",
       "    </tr>\n",
       "  </tbody>\n",
       "</table>\n",
       "</div>"
      ],
      "text/plain": [
       "         country    capital    area  population\n",
       "BR        Brazil   Brasilia   8.516      200.40\n",
       "RU        Russia     Moscow  17.100      143.50\n",
       "IN         India  New Delhi   3.286     1252.00\n",
       "CH         China    Beijing   9.597     1357.00\n",
       "SA  South Africa   Pretoria   1.221       52.98"
      ]
     },
     "execution_count": 47,
     "metadata": {},
     "output_type": "execute_result"
    }
   ],
   "source": [
    "# Creación del brics dataframe\n",
    "\n",
    "import pandas as pd\n",
    "\n",
    "data = {\n",
    "    'country': ['Brazil', 'Russia', 'India', 'China', 'South Africa'],\n",
    "    'capital': ['Brasilia', 'Moscow', 'New Delhi', 'Beijing', 'Pretoria'],\n",
    "    'area': [8.516, 17.100, 3.286, 9.597, 1.221],\n",
    "    'population': [200.4, 143.5, 1252.0, 1357.0, 52.98]\n",
    "}\n",
    "\n",
    "index = ['BR', 'RU', 'IN', 'CH', 'SA']\n",
    "\n",
    "brics = pd.DataFrame(data, index=index)\n",
    "brics"
   ]
  },
  {
   "cell_type": "markdown",
   "id": "e5547035-a53a-4fbd-8412-2826296269a2",
   "metadata": {},
   "source": [
    "Si imprimimos los valores de forma normal, nos trae solo los nombres de las columnas"
   ]
  },
  {
   "cell_type": "code",
   "execution_count": 48,
   "id": "82c20c55-d46f-4a1f-9a7c-df5fe75c8fd2",
   "metadata": {
    "tags": []
   },
   "outputs": [
    {
     "name": "stdout",
     "output_type": "stream",
     "text": [
      "country\n",
      "capital\n",
      "area\n",
      "population\n"
     ]
    }
   ],
   "source": [
    "for val in brics:\n",
    "    print(val)"
   ]
  },
  {
   "cell_type": "markdown",
   "id": "f2089630-8187-4359-b826-50f71a7ecc75",
   "metadata": {},
   "source": [
    "Para eso utilizaremos el metodo .iterrows()"
   ]
  },
  {
   "cell_type": "code",
   "execution_count": 52,
   "id": "d8f9e168-a5c4-46bf-ae01-466c5964dbd7",
   "metadata": {
    "tags": []
   },
   "outputs": [
    {
     "name": "stdout",
     "output_type": "stream",
     "text": [
      "BR: Brasilia\n",
      "RU: Moscow\n",
      "IN: New Delhi\n",
      "CH: Beijing\n",
      "SA: Pretoria\n"
     ]
    }
   ],
   "source": [
    "for lab, row in brics.iterrows(): #Utilizamos .iterrows() para iterar sobre dataframe\n",
    "    print(lab + \": \" + row[\"capital\"]) # lab = index, row = row"
   ]
  },
  {
   "cell_type": "markdown",
   "id": "179bd46d-6639-4e55-94d4-b445ed11e60e",
   "metadata": {},
   "source": [
    "Agregamos columna al dataframe"
   ]
  },
  {
   "cell_type": "code",
   "execution_count": 64,
   "id": "49d60a00-f421-4e64-9bc8-0277110c2525",
   "metadata": {
    "tags": []
   },
   "outputs": [
    {
     "name": "stdout",
     "output_type": "stream",
     "text": [
      "         country    capital    area  population  name_length\n",
      "BR        Brazil   Brasilia   8.516      200.40          6.0\n",
      "RU        Russia     Moscow  17.100      143.50          6.0\n",
      "IN         India  New Delhi   3.286     1252.00          5.0\n",
      "CH         China    Beijing   9.597     1357.00          5.0\n",
      "SA  South Africa   Pretoria   1.221       52.98         12.0\n"
     ]
    }
   ],
   "source": [
    "for lab, row in brics.iterrows():\n",
    "    # Creamos una serie en cada iteración\n",
    "    brics.loc[lab, \"name_length\"] = len(row['country'])\n",
    "print(brics)"
   ]
  },
  {
   "cell_type": "markdown",
   "id": "7ee19241-98d7-44cb-996a-c8e78fdc7a0d",
   "metadata": {},
   "source": [
    "La manera anterior puede ser poco eficiente, porque estás creando un objeto a cada iteración, la forma óptima de hacerlo puede ser: <br>\n",
    "Aplicar una función en un columna, de forma element-wise, utilizando el método .apply()"
   ]
  },
  {
   "cell_type": "code",
   "execution_count": 66,
   "id": "38e2dfbc-b72c-4bd2-b478-d4bd68c012f2",
   "metadata": {
    "tags": []
   },
   "outputs": [
    {
     "name": "stdout",
     "output_type": "stream",
     "text": [
      "         country    capital    area  population  name_length\n",
      "BR        Brazil   Brasilia   8.516      200.40            6\n",
      "RU        Russia     Moscow  17.100      143.50            6\n",
      "IN         India  New Delhi   3.286     1252.00            5\n",
      "CH         China    Beijing   9.597     1357.00            5\n",
      "SA  South Africa   Pretoria   1.221       52.98           12\n"
     ]
    }
   ],
   "source": [
    "# Aplicamos apply en lugar del while loop, obteniendo un resultado mas optimo\n",
    "brics['name_length'] = brics['country'].apply(len)\n",
    "print(brics)"
   ]
  }
 ],
 "metadata": {
  "kernelspec": {
   "display_name": "Python 3 (ipykernel)",
   "language": "python",
   "name": "python3"
  },
  "language_info": {
   "codemirror_mode": {
    "name": "ipython",
    "version": 3
   },
   "file_extension": ".py",
   "mimetype": "text/x-python",
   "name": "python",
   "nbconvert_exporter": "python",
   "pygments_lexer": "ipython3",
   "version": "3.11.5"
  }
 },
 "nbformat": 4,
 "nbformat_minor": 5
}
