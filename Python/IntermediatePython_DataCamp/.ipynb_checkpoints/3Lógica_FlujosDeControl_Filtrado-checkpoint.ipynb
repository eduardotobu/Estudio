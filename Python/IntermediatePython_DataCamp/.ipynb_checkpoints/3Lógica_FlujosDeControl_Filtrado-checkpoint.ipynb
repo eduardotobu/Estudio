{
 "cells": [
  {
   "cell_type": "markdown",
   "id": "7849c5a9-85e0-485b-b63c-3723a9d6cc53",
   "metadata": {},
   "source": [
    "# Lógica, Flujos de Control y Filtrado 🎛"
   ]
  },
  {
   "cell_type": "markdown",
   "id": "0f2c9c8c-a49b-4d5c-adc9-69e99c2a1196",
   "metadata": {},
   "source": [
    "## Comparison Operators\n",
    "Son operadores que pueden confirmar como se relacionan dos valores en python. El resultado es un booleano."
   ]
  },
  {
   "attachments": {
    "7a79f854-a3e9-43bf-941c-a7ddbfcd6657.png": {
     "image/png": "[encoded data removed]"
    }
   },
   "cell_type": "markdown",
   "id": "59b9a7b5-ce49-4857-94ec-53ada8b28d15",
   "metadata": {},
   "source": [
    "![image.png](attachment:7a79f854-a3e9-43bf-941c-a7ddbfcd6657.png)"
   ]
  },
  {
   "cell_type": "code",
   "execution_count": 8,
   "id": "2ef28d68-b6df-44aa-a42d-ecef7833e1cb",
   "metadata": {},
   "outputs": [
    {
     "name": "stdout",
     "output_type": "stream",
     "text": [
      "True\n",
      "False\n",
      "True\n",
      "True\n",
      "True\n",
      "True\n"
     ]
    }
   ],
   "source": [
    "print(2 < 3)\n",
    "print(2 == 3)\n",
    "print(2 <= 3)\n",
    "print(3 <= 3)\n",
    "x = 2\n",
    "y = 3\n",
    "print(x < y)\n",
    "print('carl' < 'chris')"
   ]
  },
  {
   "cell_type": "markdown",
   "id": "90dc05e0-d333-48c3-bbe2-67b519427e20",
   "metadata": {},
   "source": [
    "Solo puedes comparar valores del mismo tipo."
   ]
  },
  {
   "cell_type": "code",
   "execution_count": 14,
   "id": "36d6e760-8870-46bb-8150-e153dcf76477",
   "metadata": {},
   "outputs": [
    {
     "ename": "TypeError",
     "evalue": "'<' not supported between instances of 'int' and 'str'",
     "output_type": "error",
     "traceback": [
      "\u001b[1;31m---------------------------------------------------------------------------\u001b[0m",
      "\u001b[1;31mTypeError\u001b[0m                                 Traceback (most recent call last)",
      "Cell \u001b[1;32mIn[14], line 2\u001b[0m\n\u001b[0;32m      1\u001b[0m \u001b[38;5;66;03m# Al comparar un int con un str te arroja error\u001b[39;00m\n\u001b[1;32m----> 2\u001b[0m \u001b[38;5;28mprint\u001b[39m(\u001b[38;5;241m3\u001b[39m \u001b[38;5;241m<\u001b[39m \u001b[38;5;124m'\u001b[39m\u001b[38;5;124mchris\u001b[39m\u001b[38;5;124m'\u001b[39m)\n",
      "\u001b[1;31mTypeError\u001b[0m: '<' not supported between instances of 'int' and 'str'"
     ]
    }
   ],
   "source": [
    "# Al comparar un int con un str te arroja error\n",
    "print(3 < 'chris')"
   ]
  },
  {
   "cell_type": "markdown",
   "id": "bc29b523-3bb5-4e3d-9ff7-ac683bf1c36a",
   "metadata": {},
   "source": [
    "Más ejemplos de comparaciones:"
   ]
  },
  {
   "cell_type": "code",
   "execution_count": 16,
   "id": "512052c9-674b-4397-85ed-3eaa92073c77",
   "metadata": {},
   "outputs": [
    {
     "name": "stdout",
     "output_type": "stream",
     "text": [
      "False\n",
      "True\n",
      "False\n",
      "True\n"
     ]
    }
   ],
   "source": [
    "# Comparación de booleanos\n",
    "print(True == False)\n",
    "\n",
    "# Comparación de enteros\n",
    "print(-5*15 != 75)\n",
    "\n",
    "# Comparación de strings\n",
    "print('pyscript' == 'PyScript')\n",
    "\n",
    "# Compara un booleano con un integer\n",
    "print(True == 1) # Este funciona porque un booleano es un tipo especial de entero, True = 1 y False = 0"
   ]
  },
  {
   "cell_type": "markdown",
   "id": "fe3b30b9-4ba1-44cf-a10f-f2befac6bf04",
   "metadata": {},
   "source": [
    "### Comparaciones con np.arrays\n",
    "También se pueden utilizar comparaciones en numpy arrays. La comparacion de un valor con un array, te da un array de booleanos confirmando si se cumple o no la condición para cada elemento."
   ]
  },
  {
   "cell_type": "code",
   "execution_count": 13,
   "id": "80ea7914-037d-4a87-8824-d52ec266c89b",
   "metadata": {},
   "outputs": [
    {
     "name": "stdout",
     "output_type": "stream",
     "text": [
      "[21.852 20.975 21.75  24.747 21.441]\n",
      "[False False False  True False]\n"
     ]
    }
   ],
   "source": [
    "import numpy as np\n",
    "bmi = np.array([21.852,20.975,21.75,24.747,21.441])\n",
    "print(bmi)\n",
    "\n",
    "#Comparación de un array con un valor.\n",
    "print(bmi > 23)"
   ]
  },
  {
   "cell_type": "markdown",
   "id": "92685832-c407-4777-8178-4d7b3665a8c2",
   "metadata": {},
   "source": [
    "Otro ejemplo:"
   ]
  },
  {
   "cell_type": "code",
   "execution_count": 18,
   "id": "7828360a-549a-40e2-a2de-166eeba9a9c2",
   "metadata": {},
   "outputs": [
    {
     "name": "stdout",
     "output_type": "stream",
     "text": [
      "[ True  True False False]\n",
      "[False  True  True False]\n"
     ]
    }
   ],
   "source": [
    "# Creamos dos numpy arrays representando dos casas y cada elemento es el tamaño de un cuarto en m2\n",
    "import numpy as np\n",
    "my_house = np.array([18.0, 20.0, 10.75, 9.50])\n",
    "your_house = np.array([14.0, 24.0, 14.25, 9.0])\n",
    "\n",
    "# ¿Qué cuartos de mi casa miden más de 18 m2?\n",
    "print(my_house >= 18)\n",
    "\n",
    "# ¿Qué cuartos de mi casa miden menos que los cuartos de tu casa?\n",
    "print(my_house < your_house)"
   ]
  },
  {
   "cell_type": "markdown",
   "id": "8c42941e-b6b0-4669-be69-f0a57d45aaa3",
   "metadata": {},
   "source": [
    "## Boolean Operators\n",
    "Operadores que comparan resultados booleanos, como los que obtenemos al ejecutar los operadores de comparador. Los más comunes son 'and', 'or' y 'not'."
   ]
  },
  {
   "cell_type": "markdown",
   "id": "b8807201-f4a7-4678-90e1-453aed1143dd",
   "metadata": {},
   "source": [
    "### and\n",
    "Compara dos booleanos y es True solo si los dos booleanos son True."
   ]
  },
  {
   "cell_type": "code",
   "execution_count": 20,
   "id": "8cb777a1-db07-45b8-81e2-4e171186194a",
   "metadata": {},
   "outputs": [
    {
     "name": "stdout",
     "output_type": "stream",
     "text": [
      "True\n",
      "False\n",
      "False\n",
      "False\n"
     ]
    }
   ],
   "source": [
    "# Solo True and True dan True. El resto de posibles comparaciones son false.\n",
    "print(True and True)\n",
    "print(False and True)\n",
    "print(True and False)\n",
    "print(False and False)"
   ]
  },
  {
   "cell_type": "code",
   "execution_count": 22,
   "id": "958b3c59-3f99-4e8e-9bbd-2ee63b252ba0",
   "metadata": {},
   "outputs": [
    {
     "data": {
      "text/plain": [
       "True"
      ]
     },
     "execution_count": 22,
     "metadata": {},
     "output_type": "execute_result"
    }
   ],
   "source": [
    "x = 12\n",
    "\n",
    "#Doble comparación, utilizando los booleanos.\n",
    "x > 5 and x < 15"
   ]
  },
  {
   "cell_type": "markdown",
   "id": "01370ab2-dafc-45a3-8f5d-3ab56d333e08",
   "metadata": {},
   "source": [
    "### or\n",
    "Compara dos booleanos y con que uno de los dos sea True, el resultado es True."
   ]
  },
  {
   "cell_type": "code",
   "execution_count": 24,
   "id": "1fd4e0b8-7bdc-491e-84c3-88f63b74a205",
   "metadata": {},
   "outputs": [
    {
     "name": "stdout",
     "output_type": "stream",
     "text": [
      "True\n",
      "True\n",
      "True\n",
      "False\n"
     ]
    }
   ],
   "source": [
    "# Todos son True menos la que compara dos False\n",
    "print(True or True)\n",
    "print(False or True)\n",
    "print(True or False)\n",
    "print(False or False)"
   ]
  },
  {
   "cell_type": "code",
   "execution_count": 25,
   "id": "734d67d2-2576-4753-9a89-1f8e8d71866b",
   "metadata": {},
   "outputs": [
    {
     "data": {
      "text/plain": [
       "True"
      ]
     },
     "execution_count": 25,
     "metadata": {},
     "output_type": "execute_result"
    }
   ],
   "source": [
    "y = 5\n",
    "# Con que una de las dos condiciones se cumpla, obtenemos True\n",
    "y < 7 or y > 13"
   ]
  },
  {
   "cell_type": "markdown",
   "id": "283b2b10-64cb-4437-b8a7-10c298ac93f5",
   "metadata": {},
   "source": [
    "### not\n",
    "Niega los booleanos. Te da su contrario."
   ]
  },
  {
   "cell_type": "code",
   "execution_count": 26,
   "id": "a29d2584-5cd9-4e7e-a042-f274275d1fb1",
   "metadata": {
    "scrolled": true
   },
   "outputs": [
    {
     "name": "stdout",
     "output_type": "stream",
     "text": [
      "False\n",
      "True\n"
     ]
    }
   ],
   "source": [
    "print(not True)\n",
    "print(not False)"
   ]
  },
  {
   "cell_type": "markdown",
   "id": "01979950-469a-4802-80dc-8b56a1d8b9c4",
   "metadata": {},
   "source": [
    "Es muy útil si utilizas varios comparadores y quieres negar su resultado."
   ]
  },
  {
   "cell_type": "markdown",
   "id": "8f48dcc2-05c4-4cad-bc2e-64a26efc3cee",
   "metadata": {},
   "source": [
    "### Más Ejemplos de boolean operators"
   ]
  },
  {
   "cell_type": "code",
   "execution_count": 37,
   "id": "86d191bd-5c55-4e52-92ea-656ddd96b74d",
   "metadata": {},
   "outputs": [
    {
     "name": "stdout",
     "output_type": "stream",
     "text": [
      "False\n",
      "True\n",
      "True\n"
     ]
    }
   ],
   "source": [
    "my_kitchen = 18.0\n",
    "your_kitchen = 14.0\n",
    "\n",
    "# ¿my_kitchen es mayor que 10 y menor que 18?\n",
    "print(my_kitchen > 10 and my_kitchen < 18)\n",
    "\n",
    "# ¿my_kitchen es menor que 14 o mayor que 17?\n",
    "print(my_kitchen < 14 or my_kitchen > 17)\n",
    "\n",
    "# ¿dos veces my_kitchen es menor que tres veces your_kitchen?\n",
    "print(2*my_kitchen < 3*your_kitchen)"
   ]
  },
  {
   "cell_type": "markdown",
   "id": "4ec79e4b-a988-4afa-94c4-bfe3a11ad3cf",
   "metadata": {},
   "source": [
    "### Boolean Operators con NumPy arrays\n",
    "En NumPy no funcionan los operadores booleanos normales."
   ]
  },
  {
   "cell_type": "code",
   "execution_count": 28,
   "id": "4fbbd204-afcb-47ec-8999-eeda2878cc27",
   "metadata": {},
   "outputs": [
    {
     "name": "stdout",
     "output_type": "stream",
     "text": [
      "[21.852 20.975 21.75  24.747 21.441]\n"
     ]
    },
    {
     "ename": "ValueError",
     "evalue": "The truth value of an array with more than one element is ambiguous. Use a.any() or a.all()",
     "output_type": "error",
     "traceback": [
      "\u001b[1;31m---------------------------------------------------------------------------\u001b[0m",
      "\u001b[1;31mValueError\u001b[0m                                Traceback (most recent call last)",
      "Cell \u001b[1;32mIn[28], line 6\u001b[0m\n\u001b[0;32m      3\u001b[0m \u001b[38;5;28mprint\u001b[39m(bmi)\n\u001b[0;32m      5\u001b[0m \u001b[38;5;66;03m#Comparación de un array con un valor.\u001b[39;00m\n\u001b[1;32m----> 6\u001b[0m \u001b[38;5;28mprint\u001b[39m(bmi \u001b[38;5;241m>\u001b[39m \u001b[38;5;241m21\u001b[39m \u001b[38;5;129;01mand\u001b[39;00m bmi \u001b[38;5;241m<\u001b[39m \u001b[38;5;241m22\u001b[39m)\n",
      "\u001b[1;31mValueError\u001b[0m: The truth value of an array with more than one element is ambiguous. Use a.any() or a.all()"
     ]
    }
   ],
   "source": [
    "import numpy as np\n",
    "bmi = np.array([21.852,20.975,21.75,24.747,21.441])\n",
    "print(bmi)\n",
    "\n",
    "#Comparación de un array con un valor.\n",
    "print(bmi > 21 and bmi < 22)"
   ]
  },
  {
   "cell_type": "markdown",
   "id": "5056025b-42c2-4f74-b303-b8fd7100176d",
   "metadata": {},
   "source": [
    "Para eso incluye dentro de sus funciones logical_and(), logical_or() y logical(not)"
   ]
  },
  {
   "cell_type": "code",
   "execution_count": 32,
   "id": "9c41cb05-8c14-4e61-95a7-f4e9af78ce41",
   "metadata": {},
   "outputs": [
    {
     "data": {
      "text/plain": [
       "array([ True, False,  True, False,  True])"
      ]
     },
     "execution_count": 32,
     "metadata": {},
     "output_type": "execute_result"
    }
   ],
   "source": [
    "np.logical_and(bmi > 21, bmi < 22)"
   ]
  },
  {
   "cell_type": "markdown",
   "id": "ac83e0dc-077b-462b-b39b-c1a43fff5aee",
   "metadata": {},
   "source": [
    "Si metemos un array de booleanos en square brackets, obtenemos solo los elementos del array que hacen match con True. <br> Dicho de otra forma, podemos filtrar arrays utilizando estos operadores."
   ]
  },
  {
   "cell_type": "code",
   "execution_count": 31,
   "id": "f0cc2e25-3c6e-4c86-8127-b7d3540a4a07",
   "metadata": {},
   "outputs": [
    {
     "data": {
      "text/plain": [
       "array([21.852, 21.75 , 21.441])"
      ]
     },
     "execution_count": 31,
     "metadata": {},
     "output_type": "execute_result"
    }
   ],
   "source": [
    "bmi[np.logical_and(bmi > 21, bmi < 22)]"
   ]
  },
  {
   "cell_type": "markdown",
   "id": "915e37bc-56dd-48ec-ba7c-b039c998be88",
   "metadata": {},
   "source": [
    "Para facilitar la vida, podemos utilizar:\n",
    "- '&' como logical_and()\n",
    "- '|' como logical_or()\n",
    "- '~' como logical_not()"
   ]
  },
  {
   "cell_type": "code",
   "execution_count": 36,
   "id": "94d90046-9781-420a-b7f1-8122a79785f9",
   "metadata": {},
   "outputs": [
    {
     "data": {
      "text/plain": [
       "array([21.852, 20.975, 21.75 , 24.747, 21.441])"
      ]
     },
     "execution_count": 36,
     "metadata": {},
     "output_type": "execute_result"
    }
   ],
   "source": [
    "bmi[(bmi > 21) & (bmi < 22)]"
   ]
  },
  {
   "cell_type": "markdown",
   "id": "c3534145-acd2-4687-85fe-63a62d0d6fb8",
   "metadata": {},
   "source": [
    "Más Ejemplos:"
   ]
  },
  {
   "cell_type": "code",
   "execution_count": 38,
   "id": "3e23be4e-f87a-4988-ad66-c75b462df24c",
   "metadata": {},
   "outputs": [
    {
     "name": "stdout",
     "output_type": "stream",
     "text": [
      "[False  True False  True]\n",
      "[False False False  True]\n"
     ]
    }
   ],
   "source": [
    "# Crear arrays\n",
    "import numpy as np\n",
    "my_house = np.array([18.0, 20.0, 10.75, 9.50])\n",
    "your_house = np.array([14.0, 24.0, 14.25, 9.0])\n",
    "\n",
    "# my_house mayor a 18.5 o menor que 10\n",
    "print(np.logical_or(my_house > 18.5, my_house < 10))\n",
    "\n",
    "# my_house y your_house menores que 11\n",
    "print(np.logical_and(my_house < 11, your_house < 11))"
   ]
  },
  {
   "cell_type": "markdown",
   "id": "b88545ce-4eef-4d83-883f-67072be80646",
   "metadata": {},
   "source": [
    "## if, elif, else\n",
    "Ahora, podemos utilizar las condiciones booleanas para modificar el flujo de nuestro programa."
   ]
  },
  {
   "cell_type": "code",
   "execution_count": 52,
   "id": "3b4a30a9-9390-4246-b2a2-056665754d4a",
   "metadata": {},
   "outputs": [
    {
     "name": "stdout",
     "output_type": "stream",
     "text": [
      "z no es divisible entre 3 ni entre 2\n"
     ]
    }
   ],
   "source": [
    "z = 7\n",
    "# Con la condición, checa si el estatement es verdadero y ejecuta esa parte del código\n",
    "if z % 2 == 0:\n",
    "    # La identación hace que el pedazo de código esté dentro del if\n",
    "    print('z es divisible entre 2')\n",
    "# Es como el segundo if, si las condiciones anteriores se rechazan, se evalúa esta\n",
    "elif z % 3 == 0:\n",
    "    print('z es divisible entre 3')\n",
    "#else arroja un resultado si el resto de condiciones fallaron.\n",
    "else:\n",
    "    print('z no es divisible entre 3 ni entre 2')"
   ]
  },
  {
   "cell_type": "markdown",
   "id": "6df8e200-6c9d-4446-93a9-bd025d52c1f9",
   "metadata": {},
   "source": [
    "## Filtrando pandas DataFrames\n",
    "Se filtran de la misma forma que los numpy arrays."
   ]
  },
  {
   "cell_type": "code",
   "execution_count": 53,
   "id": "cebcf5aa-e16c-4ac9-b615-285282654145",
   "metadata": {
    "jupyter": {
     "source_hidden": true
    }
   },
   "outputs": [
    {
     "data": {
      "text/html": [
       "<div>\n",
       "<style scoped>\n",
       "    .dataframe tbody tr th:only-of-type {\n",
       "        vertical-align: middle;\n",
       "    }\n",
       "\n",
       "    .dataframe tbody tr th {\n",
       "        vertical-align: top;\n",
       "    }\n",
       "\n",
       "    .dataframe thead th {\n",
       "        text-align: right;\n",
       "    }\n",
       "</style>\n",
       "<table border=\"1\" class=\"dataframe\">\n",
       "  <thead>\n",
       "    <tr style=\"text-align: right;\">\n",
       "      <th></th>\n",
       "      <th>country</th>\n",
       "      <th>capital</th>\n",
       "      <th>area</th>\n",
       "      <th>population</th>\n",
       "    </tr>\n",
       "  </thead>\n",
       "  <tbody>\n",
       "    <tr>\n",
       "      <th>0</th>\n",
       "      <td>Brazil</td>\n",
       "      <td>Brasilia</td>\n",
       "      <td>8.516</td>\n",
       "      <td>200.40</td>\n",
       "    </tr>\n",
       "    <tr>\n",
       "      <th>1</th>\n",
       "      <td>Russia</td>\n",
       "      <td>Moscow</td>\n",
       "      <td>17.100</td>\n",
       "      <td>143.50</td>\n",
       "    </tr>\n",
       "    <tr>\n",
       "      <th>2</th>\n",
       "      <td>India</td>\n",
       "      <td>New Delhi</td>\n",
       "      <td>3.286</td>\n",
       "      <td>1252.00</td>\n",
       "    </tr>\n",
       "    <tr>\n",
       "      <th>3</th>\n",
       "      <td>China</td>\n",
       "      <td>Beijing</td>\n",
       "      <td>9.597</td>\n",
       "      <td>1357.00</td>\n",
       "    </tr>\n",
       "    <tr>\n",
       "      <th>4</th>\n",
       "      <td>South Africa</td>\n",
       "      <td>Pretoria</td>\n",
       "      <td>1.221</td>\n",
       "      <td>52.98</td>\n",
       "    </tr>\n",
       "  </tbody>\n",
       "</table>\n",
       "</div>"
      ],
      "text/plain": [
       "        country    capital    area  population\n",
       "0        Brazil   Brasilia   8.516      200.40\n",
       "1        Russia     Moscow  17.100      143.50\n",
       "2         India  New Delhi   3.286     1252.00\n",
       "3         China    Beijing   9.597     1357.00\n",
       "4  South Africa   Pretoria   1.221       52.98"
      ]
     },
     "execution_count": 53,
     "metadata": {},
     "output_type": "execute_result"
    }
   ],
   "source": [
    "dict = {\n",
    "    'country':['Brazil','Russia','India','China','South Africa'],\n",
    "    'capital':['Brasilia','Moscow','New Delhi','Beijing','Pretoria'],\n",
    "    'area':[8.516,17.10,3.286,9.597,1.221],\n",
    "    'population':[200.4, 143.5, 1252, 1357, 52.98]\n",
    "}\n",
    "\n",
    "# Importamos la librería de pandas\n",
    "import pandas as pd\n",
    "# Convertimos el diccionario a dataframe\n",
    "brics = pd.DataFrame(dict)\n",
    "brics"
   ]
  },
  {
   "cell_type": "code",
   "execution_count": 60,
   "id": "f75991b3-197e-47c9-8cb0-60cefa9685a4",
   "metadata": {},
   "outputs": [
    {
     "data": {
      "text/plain": [
       "0     8.516\n",
       "1    17.100\n",
       "2     3.286\n",
       "3     9.597\n",
       "4     1.221\n",
       "Name: area, dtype: float64"
      ]
     },
     "execution_count": 60,
     "metadata": {},
     "output_type": "execute_result"
    }
   ],
   "source": [
    "# Traemos la columna como pandas series, la cual tiene propiedades casi identicas a un np.array\n",
    "brics['area']"
   ]
  },
  {
   "cell_type": "code",
   "execution_count": 62,
   "id": "6bea813d-d601-4154-a95f-e84c7584fbaa",
   "metadata": {
    "scrolled": true
   },
   "outputs": [
    {
     "data": {
      "text/plain": [
       "0     True\n",
       "1     True\n",
       "2    False\n",
       "3     True\n",
       "4    False\n",
       "Name: area, dtype: bool"
      ]
     },
     "execution_count": 62,
     "metadata": {},
     "output_type": "execute_result"
    }
   ],
   "source": [
    "# Comparamos la columna de la misma forma que con un array\n",
    "is_huge = brics['area'] > 8\n",
    "is_huge"
   ]
  },
  {
   "cell_type": "markdown",
   "id": "91659aee-ec6f-43f8-9372-3ce7ae8eff3e",
   "metadata": {},
   "source": [
    "Y de igual forma que un np.array, filtramos dentro de los square brackets."
   ]
  },
  {
   "cell_type": "code",
   "execution_count": 65,
   "id": "38346dec-c104-4fd8-b1fc-c1ce4df862de",
   "metadata": {},
   "outputs": [
    {
     "data": {
      "text/html": [
       "<div>\n",
       "<style scoped>\n",
       "    .dataframe tbody tr th:only-of-type {\n",
       "        vertical-align: middle;\n",
       "    }\n",
       "\n",
       "    .dataframe tbody tr th {\n",
       "        vertical-align: top;\n",
       "    }\n",
       "\n",
       "    .dataframe thead th {\n",
       "        text-align: right;\n",
       "    }\n",
       "</style>\n",
       "<table border=\"1\" class=\"dataframe\">\n",
       "  <thead>\n",
       "    <tr style=\"text-align: right;\">\n",
       "      <th></th>\n",
       "      <th>country</th>\n",
       "      <th>capital</th>\n",
       "      <th>area</th>\n",
       "      <th>population</th>\n",
       "    </tr>\n",
       "  </thead>\n",
       "  <tbody>\n",
       "    <tr>\n",
       "      <th>0</th>\n",
       "      <td>Brazil</td>\n",
       "      <td>Brasilia</td>\n",
       "      <td>8.516</td>\n",
       "      <td>200.4</td>\n",
       "    </tr>\n",
       "    <tr>\n",
       "      <th>1</th>\n",
       "      <td>Russia</td>\n",
       "      <td>Moscow</td>\n",
       "      <td>17.100</td>\n",
       "      <td>143.5</td>\n",
       "    </tr>\n",
       "    <tr>\n",
       "      <th>3</th>\n",
       "      <td>China</td>\n",
       "      <td>Beijing</td>\n",
       "      <td>9.597</td>\n",
       "      <td>1357.0</td>\n",
       "    </tr>\n",
       "  </tbody>\n",
       "</table>\n",
       "</div>"
      ],
      "text/plain": [
       "  country   capital    area  population\n",
       "0  Brazil  Brasilia   8.516       200.4\n",
       "1  Russia    Moscow  17.100       143.5\n",
       "3   China   Beijing   9.597      1357.0"
      ]
     },
     "execution_count": 65,
     "metadata": {},
     "output_type": "execute_result"
    }
   ],
   "source": [
    "brics[is_huge] # Es lo mismo que brics[brics['area'] > 8]\n",
    "#Y listo, filtramos el pandas dataframe"
   ]
  },
  {
   "cell_type": "markdown",
   "id": "9ba96c8d-41dc-4cf6-99dd-3c4a39203e4a",
   "metadata": {},
   "source": [
    "Básicamente lo que haces es meterle un pandas.series de booleanos a un pandas dataframe para filtrar."
   ]
  },
  {
   "cell_type": "markdown",
   "id": "19affff5-ba93-4df0-ab54-473349674a2d",
   "metadata": {},
   "source": [
    "## Boolean operators con pandas DataFrames\n",
    "Se hacen utilizando las funciones de NumPy"
   ]
  },
  {
   "cell_type": "code",
   "execution_count": 67,
   "id": "92f20786-7a14-4fdf-9e21-068a718c6f6b",
   "metadata": {
    "scrolled": true
   },
   "outputs": [
    {
     "data": {
      "text/html": [
       "<div>\n",
       "<style scoped>\n",
       "    .dataframe tbody tr th:only-of-type {\n",
       "        vertical-align: middle;\n",
       "    }\n",
       "\n",
       "    .dataframe tbody tr th {\n",
       "        vertical-align: top;\n",
       "    }\n",
       "\n",
       "    .dataframe thead th {\n",
       "        text-align: right;\n",
       "    }\n",
       "</style>\n",
       "<table border=\"1\" class=\"dataframe\">\n",
       "  <thead>\n",
       "    <tr style=\"text-align: right;\">\n",
       "      <th></th>\n",
       "      <th>country</th>\n",
       "      <th>capital</th>\n",
       "      <th>area</th>\n",
       "      <th>population</th>\n",
       "    </tr>\n",
       "  </thead>\n",
       "  <tbody>\n",
       "    <tr>\n",
       "      <th>0</th>\n",
       "      <td>Brazil</td>\n",
       "      <td>Brasilia</td>\n",
       "      <td>8.516</td>\n",
       "      <td>200.4</td>\n",
       "    </tr>\n",
       "    <tr>\n",
       "      <th>1</th>\n",
       "      <td>Russia</td>\n",
       "      <td>Moscow</td>\n",
       "      <td>17.100</td>\n",
       "      <td>143.5</td>\n",
       "    </tr>\n",
       "    <tr>\n",
       "      <th>3</th>\n",
       "      <td>China</td>\n",
       "      <td>Beijing</td>\n",
       "      <td>9.597</td>\n",
       "      <td>1357.0</td>\n",
       "    </tr>\n",
       "  </tbody>\n",
       "</table>\n",
       "</div>"
      ],
      "text/plain": [
       "  country   capital    area  population\n",
       "0  Brazil  Brasilia   8.516       200.4\n",
       "1  Russia    Moscow  17.100       143.5\n",
       "3   China   Beijing   9.597      1357.0"
      ]
     },
     "execution_count": 67,
     "metadata": {},
     "output_type": "execute_result"
    }
   ],
   "source": [
    "brics[np.logical_and(brics['area'] > 8, brics['area'] < 18)]"
   ]
  },
  {
   "cell_type": "markdown",
   "id": "663d91ad-17f7-461e-86aa-270a935508d1",
   "metadata": {},
   "source": [
    "O escrito de otra forma"
   ]
  },
  {
   "cell_type": "code",
   "execution_count": 68,
   "id": "476fca87-cd6b-4f2d-828f-7079034d5b24",
   "metadata": {},
   "outputs": [
    {
     "data": {
      "text/html": [
       "<div>\n",
       "<style scoped>\n",
       "    .dataframe tbody tr th:only-of-type {\n",
       "        vertical-align: middle;\n",
       "    }\n",
       "\n",
       "    .dataframe tbody tr th {\n",
       "        vertical-align: top;\n",
       "    }\n",
       "\n",
       "    .dataframe thead th {\n",
       "        text-align: right;\n",
       "    }\n",
       "</style>\n",
       "<table border=\"1\" class=\"dataframe\">\n",
       "  <thead>\n",
       "    <tr style=\"text-align: right;\">\n",
       "      <th></th>\n",
       "      <th>country</th>\n",
       "      <th>capital</th>\n",
       "      <th>area</th>\n",
       "      <th>population</th>\n",
       "    </tr>\n",
       "  </thead>\n",
       "  <tbody>\n",
       "    <tr>\n",
       "      <th>0</th>\n",
       "      <td>Brazil</td>\n",
       "      <td>Brasilia</td>\n",
       "      <td>8.516</td>\n",
       "      <td>200.4</td>\n",
       "    </tr>\n",
       "    <tr>\n",
       "      <th>1</th>\n",
       "      <td>Russia</td>\n",
       "      <td>Moscow</td>\n",
       "      <td>17.100</td>\n",
       "      <td>143.5</td>\n",
       "    </tr>\n",
       "    <tr>\n",
       "      <th>3</th>\n",
       "      <td>China</td>\n",
       "      <td>Beijing</td>\n",
       "      <td>9.597</td>\n",
       "      <td>1357.0</td>\n",
       "    </tr>\n",
       "  </tbody>\n",
       "</table>\n",
       "</div>"
      ],
      "text/plain": [
       "  country   capital    area  population\n",
       "0  Brazil  Brasilia   8.516       200.4\n",
       "1  Russia    Moscow  17.100       143.5\n",
       "3   China   Beijing   9.597      1357.0"
      ]
     },
     "execution_count": 68,
     "metadata": {},
     "output_type": "execute_result"
    }
   ],
   "source": [
    "brics[(brics['area'] > 8) & (brics['area'] < 18)]"
   ]
  }
 ],
 "metadata": {
  "kernelspec": {
   "display_name": "Python 3 (ipykernel)",
   "language": "python",
   "name": "python3"
  },
  "language_info": {
   "codemirror_mode": {
    "name": "ipython",
    "version": 3
   },
   "file_extension": ".py",
   "mimetype": "text/x-python",
   "name": "python",
   "nbconvert_exporter": "python",
   "pygments_lexer": "ipython3",
   "version": "3.11.5"
  }
 },
 "nbformat": 4,
 "nbformat_minor": 5
}
